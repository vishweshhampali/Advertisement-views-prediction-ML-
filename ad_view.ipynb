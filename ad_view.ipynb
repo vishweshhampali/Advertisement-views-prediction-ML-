{
  "nbformat": 4,
  "nbformat_minor": 0,
  "metadata": {
    "colab": {
      "name": "ad-view.ipynb",
      "provenance": [],
      "authorship_tag": "ABX9TyNMN5xw/sJ2Fxwaacjd1Hkc"
    },
    "kernelspec": {
      "name": "python3",
      "display_name": "Python 3"
    }
  },
  "cells": [
    {
      "cell_type": "markdown",
      "metadata": {
        "id": "NGVOMpLhvssX"
      },
      "source": [
        "Importing Libraries and reading data\n"
      ]
    },
    {
      "cell_type": "code",
      "metadata": {
        "id": "hb7nvVVUt3jE"
      },
      "source": [
        "import numpy as np\n",
        "import pandas as pd\n",
        "import matplotlib.cm as cm\n",
        "import matplotlib.pyplot as plt\n",
        "import seaborn as sns\n",
        "import datetime\n",
        "import time"
      ],
      "execution_count": null,
      "outputs": []
    },
    {
      "cell_type": "code",
      "metadata": {
        "colab": {
          "base_uri": "https://localhost:8080/"
        },
        "id": "MBPW6HU0uuoJ",
        "outputId": "a5d03aec-f756-41b4-aefa-df3afa8bce77"
      },
      "source": [
        "data_train = pd.read_csv(\"train.csv\")\n",
        "\n",
        "data_train.shape"
      ],
      "execution_count": null,
      "outputs": [
        {
          "output_type": "execute_result",
          "data": {
            "text/plain": [
              "(14999, 9)"
            ]
          },
          "metadata": {
            "tags": []
          },
          "execution_count": 42
        }
      ]
    },
    {
      "cell_type": "markdown",
      "metadata": {
        "id": "y3kDmDSCv3ED"
      },
      "source": [
        "Cleaning and converting data to usable format"
      ]
    },
    {
      "cell_type": "code",
      "metadata": {
        "id": "S21sAjyluxFc"
      },
      "source": [
        "data_train=data_train[data_train.views!='F']\n",
        "data_train=data_train[data_train.likes!='F']\n",
        "data_train=data_train[data_train.dislikes!='F']\n",
        "data_train=data_train[data_train.comment!='F']\n",
        "\n",
        "category={'A': 1,'B':2,'C':3,'D':4,'E':5,'F':6,'G':7,'H':8}\n",
        "data_train[\"category\"]=data_train[\"category\"].map(category)\n",
        "\n",
        "data_train[\"views\"] = pd.to_numeric(data_train[\"views\"])\n",
        "data_train[\"comment\"] = pd.to_numeric(data_train[\"comment\"])\n",
        "data_train[\"likes\"] = pd.to_numeric(data_train[\"likes\"])\n",
        "data_train[\"dislikes\"] = pd.to_numeric(data_train[\"dislikes\"])\n",
        "data_train[\"adview\"]=pd.to_numeric(data_train[\"adview\"])\n",
        "\n",
        "column_vidid=data_train['vidid']"
      ],
      "execution_count": null,
      "outputs": []
    },
    {
      "cell_type": "code",
      "metadata": {
        "colab": {
          "base_uri": "https://localhost:8080/",
          "height": 1000
        },
        "id": "Sej-lq_yv_no",
        "outputId": "af6cfe14-a8b5-4264-f46d-f3b0efb53ed2"
      },
      "source": [
        "from sklearn.preprocessing import LabelEncoder\n",
        "data_train['duration']=LabelEncoder().fit_transform(data_train['duration'])\n",
        "data_train['vidid']=LabelEncoder().fit_transform(data_train['vidid'])\n",
        "data_train['published']=LabelEncoder().fit_transform(data_train['published'])\n",
        "\n",
        "def checki(x):\n",
        "    y = x[2:]\n",
        "    h = ''\n",
        "    m = ''\n",
        "    s = '' \n",
        "    mm = ''    \n",
        "    P = ['H','M','S']    \n",
        "    for i in y:        \n",
        "        if i not in P:            \n",
        "            mm+=i        \n",
        "        else:            \n",
        "            if(i==\"H\"):                \n",
        "                h = mm                \n",
        "                mm = ''            \n",
        "            elif(i == \"M\"):                \n",
        "                m = mm                \n",
        "                mm = ''            \n",
        "            else:                \n",
        "                s = mm                \n",
        "                mm = ''    \n",
        "    if(h==''):        \n",
        "        h = '00'    \n",
        "    if(m == ''):        \n",
        "        m = '00'    \n",
        "    if(s==''):        \n",
        "        s='00'    \n",
        "    bp = h+':'+m+':'+s    \n",
        "    return bp\n",
        "train=pd.read_csv(\"train.csv\")\n",
        "mp = pd.read_csv(\"train.csv\")[\"duration\"]\n",
        "time  = mp.apply(checki)\n",
        "\n",
        "def func_sec(time_string):    \n",
        "    h, m, s = time_string.split(':')    \n",
        "    return int(h) * 3600 + int(m) * 60 + int(s)\n",
        "\n",
        "time1=time.apply(func_sec)\n",
        "data_train[\"duration\"]=time1\n",
        "\n",
        "print(data_train.head())\n",
        "\n",
        "\n",
        "plt.hist(data_train[\"category\"])\n",
        "plt.show()\n",
        "\n",
        "plt.plot(data_train[\"adview\"])\n",
        "plt.show()\n",
        "\n",
        "\n",
        "f, ax = plt.subplots(figsize= (10,8))\n",
        "corr = data_train.corr()\n",
        "sns.heatmap(corr, mask = np.zeros_like(corr, dtype=bool), cmap =sns.diverging_palette(220,10, as_cmap= True),square = True, ax = ax, annot = True)\n",
        "plt.show()\n",
        "\n",
        "\n",
        "Y_train  = pd.DataFrame(data = data_train.iloc[:, 1].values, columns = ['target'])\n",
        "data_train=data_train.drop([\"adview\"],axis=1)\n",
        "data_train=data_train.drop([\"vidid\"],axis=1)\n",
        "data_train.head()\n"
      ],
      "execution_count": null,
      "outputs": [
        {
          "output_type": "stream",
          "text": [
            "   vidid  adview    views  likes  ...  comment  published  duration  category\n",
            "0   5912      40  1031602   8523  ...     1095       2168       457         6\n",
            "1   2741       2     1707     56  ...        6       2185       570         4\n",
            "2   8138       1     2023     25  ...        2       2094       136         3\n",
            "3   9005       6   620860    777  ...      153       2119       262         8\n",
            "4    122       1      666      1  ...        0       2091        31         4\n",
            "\n",
            "[5 rows x 9 columns]\n"
          ],
          "name": "stdout"
        },
        {
          "output_type": "display_data",
          "data": {
            "image/png": "[encoded data removed]",
            "text/plain": [
              "<Figure size 432x288 with 1 Axes>"
            ]
          },
          "metadata": {
            "tags": [],
            "needs_background": "light"
          }
        },
        {
          "output_type": "display_data",
          "data": {
            "image/png": "[encoded data removed]",
            "text/plain": [
              "<Figure size 432x288 with 1 Axes>"
            ]
          },
          "metadata": {
            "tags": [],
            "needs_background": "light"
          }
        },
        {
          "output_type": "display_data",
          "data": {
            "image/png": "[encoded data removed]",
            "text/plain": [
              "<Figure size 720x576 with 2 Axes>"
            ]
          },
          "metadata": {
            "tags": [],
            "needs_background": "light"
          }
        },
        {
          "output_type": "execute_result",
          "data": {
            "text/html": [
              "<div>\n",
              "<style scoped>\n",
              "    .dataframe tbody tr th:only-of-type {\n",
              "        vertical-align: middle;\n",
              "    }\n",
              "\n",
              "    .dataframe tbody tr th {\n",
              "        vertical-align: top;\n",
              "    }\n",
              "\n",
              "    .dataframe thead th {\n",
              "        text-align: right;\n",
              "    }\n",
              "</style>\n",
              "<table border=\"1\" class=\"dataframe\">\n",
              "  <thead>\n",
              "    <tr style=\"text-align: right;\">\n",
              "      <th></th>\n",
              "      <th>views</th>\n",
              "      <th>likes</th>\n",
              "      <th>dislikes</th>\n",
              "      <th>comment</th>\n",
              "      <th>published</th>\n",
              "      <th>duration</th>\n",
              "      <th>category</th>\n",
              "    </tr>\n",
              "  </thead>\n",
              "  <tbody>\n",
              "    <tr>\n",
              "      <th>0</th>\n",
              "      <td>1031602</td>\n",
              "      <td>8523</td>\n",
              "      <td>363</td>\n",
              "      <td>1095</td>\n",
              "      <td>2168</td>\n",
              "      <td>457</td>\n",
              "      <td>6</td>\n",
              "    </tr>\n",
              "    <tr>\n",
              "      <th>1</th>\n",
              "      <td>1707</td>\n",
              "      <td>56</td>\n",
              "      <td>2</td>\n",
              "      <td>6</td>\n",
              "      <td>2185</td>\n",
              "      <td>570</td>\n",
              "      <td>4</td>\n",
              "    </tr>\n",
              "    <tr>\n",
              "      <th>2</th>\n",
              "      <td>2023</td>\n",
              "      <td>25</td>\n",
              "      <td>0</td>\n",
              "      <td>2</td>\n",
              "      <td>2094</td>\n",
              "      <td>136</td>\n",
              "      <td>3</td>\n",
              "    </tr>\n",
              "    <tr>\n",
              "      <th>3</th>\n",
              "      <td>620860</td>\n",
              "      <td>777</td>\n",
              "      <td>161</td>\n",
              "      <td>153</td>\n",
              "      <td>2119</td>\n",
              "      <td>262</td>\n",
              "      <td>8</td>\n",
              "    </tr>\n",
              "    <tr>\n",
              "      <th>4</th>\n",
              "      <td>666</td>\n",
              "      <td>1</td>\n",
              "      <td>0</td>\n",
              "      <td>0</td>\n",
              "      <td>2091</td>\n",
              "      <td>31</td>\n",
              "      <td>4</td>\n",
              "    </tr>\n",
              "  </tbody>\n",
              "</table>\n",
              "</div>"
            ],
            "text/plain": [
              "     views  likes  dislikes  comment  published  duration  category\n",
              "0  1031602   8523       363     1095       2168       457         6\n",
              "1     1707     56         2        6       2185       570         4\n",
              "2     2023     25         0        2       2094       136         3\n",
              "3   620860    777       161      153       2119       262         8\n",
              "4      666      1         0        0       2091        31         4"
            ]
          },
          "metadata": {
            "tags": []
          },
          "execution_count": 44
        }
      ]
    },
    {
      "cell_type": "markdown",
      "metadata": {
        "id": "FYqYqcu4wkC6"
      },
      "source": [
        "Splitting data in train and test data set"
      ]
    },
    {
      "cell_type": "code",
      "metadata": {
        "colab": {
          "base_uri": "https://localhost:8080/"
        },
        "id": "7OKV2Lt4wHg-",
        "outputId": "7831d673-5405-4267-97e8-2dbd31f39e90"
      },
      "source": [
        "from sklearn.model_selection import train_test_split\n",
        "x_train, x_test, y_train, y_test = train_test_split(data_train, Y_train, train_size=0.8, test_size=0.2 , random_state=42)\n",
        "\n",
        "print(x_train.shape)"
      ],
      "execution_count": null,
      "outputs": [
        {
          "output_type": "stream",
          "text": [
            "(11709, 7)\n"
          ],
          "name": "stdout"
        }
      ]
    },
    {
      "cell_type": "markdown",
      "metadata": {
        "id": "IVpvGXo9xHwj"
      },
      "source": [
        "Normalizing data using min max normalization"
      ]
    },
    {
      "cell_type": "code",
      "metadata": {
        "colab": {
          "base_uri": "https://localhost:8080/"
        },
        "id": "sElbX5-CxGjG",
        "outputId": "53f64143-f4b3-4ba1-f4e5-8571ce8421a3"
      },
      "source": [
        "from sklearn.preprocessing import MinMaxScaler\n",
        "scaler = MinMaxScaler()\n",
        "x_train = scaler.fit_transform(x_train)\n",
        "x_test = scaler.fit_transform(x_test)\n",
        "\n",
        "print(x_train.mean())"
      ],
      "execution_count": null,
      "outputs": [
        {
          "output_type": "stream",
          "text": [
            "0.17395410595763316\n"
          ],
          "name": "stdout"
        }
      ]
    },
    {
      "cell_type": "markdown",
      "metadata": {
        "id": "xSQGkYOVxSzV"
      },
      "source": [
        "Using sklearn models and measuring errors to see which models fits the best"
      ]
    },
    {
      "cell_type": "code",
      "metadata": {
        "colab": {
          "base_uri": "https://localhost:8080/"
        },
        "id": "STja5FkFxP0s",
        "outputId": "f98d64b6-4727-4b69-cb4e-e0f2c960e28d"
      },
      "source": [
        "from sklearn import metrics\n",
        "def print_error(x_test,y_test,model_name):\n",
        "    prediction = model_name.predict(x_test)\n",
        "    print(prediction)\n",
        "    print(\"Mean Absolute Error:\",metrics.mean_absolute_error(y_test,prediction))\n",
        "    print(\"Mean Squared Error:\",metrics.mean_squared_error(y_test,prediction))\n",
        "    print(\"Root Mean Squared Error:\",np.sqrt(metrics.mean_squared_error(y_test,prediction)))\n",
        "\n",
        "\n",
        "\n",
        "\n",
        "from sklearn import linear_model\n",
        "linear_regression = linear_model.LinearRegression()\n",
        "linear_regression.fit(x_train, y_train)\n",
        "print_error(x_test,y_test,linear_regression)\n",
        "\n",
        "from sklearn.svm import SVR\n",
        "supportvector_regressor = SVR()\n",
        "supportvector_regressor.fit(x_train,y_train)\n",
        "print_error(x_test,y_test,supportvector_regressor)\n",
        "\n",
        "\n",
        "from sklearn.tree import DecisionTreeRegressor\n",
        "decision_tree = DecisionTreeRegressor()\n",
        "decision_tree.fit(x_train, y_train)\n",
        "print_error(x_test,y_test, decision_tree)\n",
        "\n",
        "from sklearn.ensemble import RandomForestRegressor\n",
        "n_estimators = 200\n",
        "max_depth = 25\n",
        "min_samples_split=15\n",
        "min_samples_leaf=2\n",
        "random_forest = RandomForestRegressor(n_estimators = n_estimators, max_depth = max_depth, min_samples_split=min_samples_split)\n",
        "random_forest.fit(x_train,y_train)\n",
        "print_error(x_test,y_test, random_forest)"
      ],
      "execution_count": null,
      "outputs": [
        {
          "output_type": "stream",
          "text": [
            "[[-1208.12503703]\n",
            " [ 2843.47127678]\n",
            " [  541.17622097]\n",
            " ...\n",
            " [ 2122.37139874]\n",
            " [ 3005.65902961]\n",
            " [ 3652.44682139]]\n",
            "Mean Absolute Error: 5288.059212091739\n",
            "Mean Squared Error: 10881114821.641329\n",
            "Root Mean Squared Error: 104312.58227865577\n"
          ],
          "name": "stdout"
        },
        {
          "output_type": "stream",
          "text": [
            "/usr/local/lib/python3.6/dist-packages/sklearn/utils/validation.py:760: DataConversionWarning: A column-vector y was passed when a 1d array was expected. Please change the shape of y to (n_samples, ), for example using ravel().\n",
            "  y = column_or_1d(y, warn=True)\n"
          ],
          "name": "stderr"
        },
        {
          "output_type": "stream",
          "text": [
            "[2.92697591 1.56617865 1.80588619 ... 2.16984373 1.86337753 4.43711167]\n",
            "Mean Absolute Error: 3478.040658670919\n",
            "Mean Squared Error: 10901271708.174868\n",
            "Root Mean Squared Error: 104409.15528905914\n",
            "[22.  4.  1. ...  8.  1.  4.]\n",
            "Mean Absolute Error: 5499.275614754099\n",
            "Mean Squared Error: 12168836343.262636\n",
            "Root Mean Squared Error: 110312.44872299154\n"
          ],
          "name": "stdout"
        },
        {
          "output_type": "stream",
          "text": [
            "/usr/local/lib/python3.6/dist-packages/ipykernel_launcher.py:34: DataConversionWarning: A column-vector y was passed when a 1d array was expected. Please change the shape of y to (n_samples,), for example using ravel().\n"
          ],
          "name": "stderr"
        },
        {
          "output_type": "stream",
          "text": [
            "[ 23.53472635 661.06077348   6.48930988 ...  10.6790385  311.29573409\n",
            "  90.64501891]\n",
            "Mean Absolute Error: 5100.213584576651\n",
            "Mean Squared Error: 10467119443.835915\n",
            "Root Mean Squared Error: 102308.94117248949\n"
          ],
          "name": "stdout"
        }
      ]
    },
    {
      "cell_type": "markdown",
      "metadata": {
        "id": "jtVfQA53yMXL"
      },
      "source": [
        "Trying ANN on the data set"
      ]
    },
    {
      "cell_type": "code",
      "metadata": {
        "id": "kfkzbM_NyL_I"
      },
      "source": [
        "import keras\n",
        "from keras.layers import Dense"
      ],
      "execution_count": null,
      "outputs": []
    },
    {
      "cell_type": "code",
      "metadata": {
        "id": "YosewKfgxhUp"
      },
      "source": [
        "ann = keras.models.Sequential([Dense(6, activation=\"relu\",input_shape=x_train.shape[1:]),Dense(6,activation=\"relu\"),Dense(1)])\n",
        "optimizer = keras.optimizers.Adam()\n",
        "loss = keras.losses.mean_absolute_error\n",
        "ann.compile(optimizer= optimizer, loss = loss, metrics=[\"mean_squared_error\"])\n"
      ],
      "execution_count": null,
      "outputs": []
    },
    {
      "cell_type": "code",
      "metadata": {
        "colab": {
          "base_uri": "https://localhost:8080/"
        },
        "id": "i153WeYHzTAd",
        "outputId": "d5f9cdd7-1b1a-465d-9e70-784005784727"
      },
      "source": [
        "history = ann.fit(x_train,y_train,epochs=100)\n",
        "ann.summary()\n",
        "print_error(x_test,y_test,ann)"
      ],
      "execution_count": null,
      "outputs": [
        {
          "output_type": "stream",
          "text": [
            "Epoch 1/100\n",
            "366/366 [==============================] - 0s 843us/step - loss: 1711.9769 - mean_squared_error: 767617024.0000\n",
            "Epoch 2/100\n",
            "366/366 [==============================] - 0s 870us/step - loss: 1711.5009 - mean_squared_error: 767612544.0000\n",
            "Epoch 3/100\n",
            "366/366 [==============================] - 0s 831us/step - loss: 1711.4910 - mean_squared_error: 767612288.0000\n",
            "Epoch 4/100\n",
            "366/366 [==============================] - 0s 850us/step - loss: 1711.4812 - mean_squared_error: 767612544.0000\n",
            "Epoch 5/100\n",
            "366/366 [==============================] - 0s 857us/step - loss: 1711.4648 - mean_squared_error: 767612736.0000\n",
            "Epoch 6/100\n",
            "366/366 [==============================] - 0s 856us/step - loss: 1711.4349 - mean_squared_error: 767612416.0000\n",
            "Epoch 7/100\n",
            "366/366 [==============================] - 0s 814us/step - loss: 1711.4150 - mean_squared_error: 767611968.0000\n",
            "Epoch 8/100\n",
            "366/366 [==============================] - 0s 917us/step - loss: 1711.3994 - mean_squared_error: 767611648.0000\n",
            "Epoch 9/100\n",
            "366/366 [==============================] - 0s 822us/step - loss: 1711.3868 - mean_squared_error: 767611072.0000\n",
            "Epoch 10/100\n",
            "366/366 [==============================] - 0s 822us/step - loss: 1711.3716 - mean_squared_error: 767611072.0000\n",
            "Epoch 11/100\n",
            "366/366 [==============================] - 0s 835us/step - loss: 1711.3651 - mean_squared_error: 767610624.0000\n",
            "Epoch 12/100\n",
            "366/366 [==============================] - 0s 891us/step - loss: 1711.3523 - mean_squared_error: 767610176.0000\n",
            "Epoch 13/100\n",
            "366/366 [==============================] - 0s 881us/step - loss: 1711.3419 - mean_squared_error: 767609728.0000\n",
            "Epoch 14/100\n",
            "366/366 [==============================] - 0s 876us/step - loss: 1711.3336 - mean_squared_error: 767609472.0000\n",
            "Epoch 15/100\n",
            "366/366 [==============================] - 0s 881us/step - loss: 1711.3287 - mean_squared_error: 767609280.0000\n",
            "Epoch 16/100\n",
            "366/366 [==============================] - 0s 855us/step - loss: 1711.3219 - mean_squared_error: 767609408.0000\n",
            "Epoch 17/100\n",
            "366/366 [==============================] - 0s 847us/step - loss: 1711.3201 - mean_squared_error: 767608576.0000\n",
            "Epoch 18/100\n",
            "366/366 [==============================] - 0s 865us/step - loss: 1711.3138 - mean_squared_error: 767608768.0000\n",
            "Epoch 19/100\n",
            "366/366 [==============================] - 0s 870us/step - loss: 1711.3108 - mean_squared_error: 767608384.0000\n",
            "Epoch 20/100\n",
            "366/366 [==============================] - 0s 848us/step - loss: 1711.3103 - mean_squared_error: 767608512.0000\n",
            "Epoch 21/100\n",
            "366/366 [==============================] - 0s 858us/step - loss: 1711.3070 - mean_squared_error: 767607808.0000\n",
            "Epoch 22/100\n",
            "366/366 [==============================] - 0s 844us/step - loss: 1711.3040 - mean_squared_error: 767608064.0000\n",
            "Epoch 23/100\n",
            "366/366 [==============================] - 0s 871us/step - loss: 1711.3024 - mean_squared_error: 767607872.0000\n",
            "Epoch 24/100\n",
            "366/366 [==============================] - 0s 921us/step - loss: 1711.3024 - mean_squared_error: 767607936.0000\n",
            "Epoch 25/100\n",
            "366/366 [==============================] - 0s 859us/step - loss: 1711.2983 - mean_squared_error: 767607936.0000\n",
            "Epoch 26/100\n",
            "366/366 [==============================] - 0s 907us/step - loss: 1711.2972 - mean_squared_error: 767607872.0000\n",
            "Epoch 27/100\n",
            "366/366 [==============================] - 0s 891us/step - loss: 1711.2944 - mean_squared_error: 767607872.0000\n",
            "Epoch 28/100\n",
            "366/366 [==============================] - 0s 894us/step - loss: 1711.2953 - mean_squared_error: 767607808.0000\n",
            "Epoch 29/100\n",
            "366/366 [==============================] - 0s 870us/step - loss: 1711.2921 - mean_squared_error: 767607680.0000\n",
            "Epoch 30/100\n",
            "366/366 [==============================] - 0s 879us/step - loss: 1711.2913 - mean_squared_error: 767607808.0000\n",
            "Epoch 31/100\n",
            "366/366 [==============================] - 0s 889us/step - loss: 1711.2902 - mean_squared_error: 767607488.0000\n",
            "Epoch 32/100\n",
            "366/366 [==============================] - 0s 874us/step - loss: 1711.2894 - mean_squared_error: 767607808.0000\n",
            "Epoch 33/100\n",
            "366/366 [==============================] - 0s 895us/step - loss: 1711.2876 - mean_squared_error: 767607232.0000\n",
            "Epoch 34/100\n",
            "366/366 [==============================] - 0s 879us/step - loss: 1711.2860 - mean_squared_error: 767607616.0000\n",
            "Epoch 35/100\n",
            "366/366 [==============================] - 0s 867us/step - loss: 1711.2852 - mean_squared_error: 767607808.0000\n",
            "Epoch 36/100\n",
            "366/366 [==============================] - 0s 878us/step - loss: 1711.2816 - mean_squared_error: 767607488.0000\n",
            "Epoch 37/100\n",
            "366/366 [==============================] - 0s 879us/step - loss: 1711.2827 - mean_squared_error: 767607680.0000\n",
            "Epoch 38/100\n",
            "366/366 [==============================] - 0s 898us/step - loss: 1711.2805 - mean_squared_error: 767607232.0000\n",
            "Epoch 39/100\n",
            "366/366 [==============================] - 0s 906us/step - loss: 1711.2810 - mean_squared_error: 767607488.0000\n",
            "Epoch 40/100\n",
            "366/366 [==============================] - 0s 895us/step - loss: 1711.2797 - mean_squared_error: 767607488.0000\n",
            "Epoch 41/100\n",
            "366/366 [==============================] - 0s 880us/step - loss: 1711.2780 - mean_squared_error: 767606912.0000\n",
            "Epoch 42/100\n",
            "366/366 [==============================] - 0s 859us/step - loss: 1711.2766 - mean_squared_error: 767607424.0000\n",
            "Epoch 43/100\n",
            "366/366 [==============================] - 0s 914us/step - loss: 1711.2748 - mean_squared_error: 767606912.0000\n",
            "Epoch 44/100\n",
            "366/366 [==============================] - 0s 872us/step - loss: 1711.2734 - mean_squared_error: 767607360.0000\n",
            "Epoch 45/100\n",
            "366/366 [==============================] - 0s 867us/step - loss: 1711.2743 - mean_squared_error: 767607040.0000\n",
            "Epoch 46/100\n",
            "366/366 [==============================] - 0s 881us/step - loss: 1711.2710 - mean_squared_error: 767607360.0000\n",
            "Epoch 47/100\n",
            "366/366 [==============================] - 0s 888us/step - loss: 1711.2701 - mean_squared_error: 767607360.0000\n",
            "Epoch 48/100\n",
            "366/366 [==============================] - 0s 869us/step - loss: 1711.2684 - mean_squared_error: 767607168.0000\n",
            "Epoch 49/100\n",
            "366/366 [==============================] - 0s 893us/step - loss: 1711.2688 - mean_squared_error: 767607168.0000\n",
            "Epoch 50/100\n",
            "366/366 [==============================] - 0s 886us/step - loss: 1711.2681 - mean_squared_error: 767606720.0000\n",
            "Epoch 51/100\n",
            "366/366 [==============================] - 0s 863us/step - loss: 1711.2681 - mean_squared_error: 767607040.0000\n",
            "Epoch 52/100\n",
            "366/366 [==============================] - 0s 864us/step - loss: 1711.2649 - mean_squared_error: 767607168.0000\n",
            "Epoch 53/100\n",
            "366/366 [==============================] - 0s 873us/step - loss: 1711.2650 - mean_squared_error: 767606784.0000\n",
            "Epoch 54/100\n",
            "366/366 [==============================] - 0s 887us/step - loss: 1711.2651 - mean_squared_error: 767606528.0000\n",
            "Epoch 55/100\n",
            "366/366 [==============================] - 0s 914us/step - loss: 1711.2643 - mean_squared_error: 767606528.0000\n",
            "Epoch 56/100\n",
            "366/366 [==============================] - 0s 892us/step - loss: 1711.2632 - mean_squared_error: 767607040.0000\n",
            "Epoch 57/100\n",
            "366/366 [==============================] - 0s 876us/step - loss: 1711.2620 - mean_squared_error: 767606912.0000\n",
            "Epoch 58/100\n",
            "366/366 [==============================] - 0s 928us/step - loss: 1711.2611 - mean_squared_error: 767606464.0000\n",
            "Epoch 59/100\n",
            "366/366 [==============================] - 0s 930us/step - loss: 1711.2603 - mean_squared_error: 767606528.0000\n",
            "Epoch 60/100\n",
            "366/366 [==============================] - 0s 869us/step - loss: 1711.2606 - mean_squared_error: 767606784.0000\n",
            "Epoch 61/100\n",
            "366/366 [==============================] - 0s 941us/step - loss: 1711.2585 - mean_squared_error: 767606592.0000\n",
            "Epoch 62/100\n",
            "366/366 [==============================] - 0s 870us/step - loss: 1711.2585 - mean_squared_error: 767606592.0000\n",
            "Epoch 63/100\n",
            "366/366 [==============================] - 0s 882us/step - loss: 1711.2585 - mean_squared_error: 767606464.0000\n",
            "Epoch 64/100\n",
            "366/366 [==============================] - 0s 921us/step - loss: 1711.2574 - mean_squared_error: 767606464.0000\n",
            "Epoch 65/100\n",
            "366/366 [==============================] - 0s 888us/step - loss: 1711.2552 - mean_squared_error: 767606144.0000\n",
            "Epoch 66/100\n",
            "366/366 [==============================] - 0s 868us/step - loss: 1711.2549 - mean_squared_error: 767606272.0000\n",
            "Epoch 67/100\n",
            "366/366 [==============================] - 0s 916us/step - loss: 1711.2552 - mean_squared_error: 767606272.0000\n",
            "Epoch 68/100\n",
            "366/366 [==============================] - 0s 899us/step - loss: 1711.2535 - mean_squared_error: 767606272.0000\n",
            "Epoch 69/100\n",
            "366/366 [==============================] - 0s 887us/step - loss: 1711.2529 - mean_squared_error: 767606720.0000\n",
            "Epoch 70/100\n",
            "366/366 [==============================] - 0s 939us/step - loss: 1711.2529 - mean_squared_error: 767606464.0000\n",
            "Epoch 71/100\n",
            "366/366 [==============================] - 0s 885us/step - loss: 1711.2515 - mean_squared_error: 767606464.0000\n",
            "Epoch 72/100\n",
            "366/366 [==============================] - 0s 899us/step - loss: 1711.2531 - mean_squared_error: 767606528.0000\n",
            "Epoch 73/100\n",
            "366/366 [==============================] - 0s 915us/step - loss: 1711.2506 - mean_squared_error: 767605632.0000\n",
            "Epoch 74/100\n",
            "366/366 [==============================] - 0s 915us/step - loss: 1711.2491 - mean_squared_error: 767606144.0000\n",
            "Epoch 75/100\n",
            "366/366 [==============================] - 0s 866us/step - loss: 1711.2491 - mean_squared_error: 767606016.0000\n",
            "Epoch 76/100\n",
            "366/366 [==============================] - 0s 898us/step - loss: 1711.2491 - mean_squared_error: 767605888.0000\n",
            "Epoch 77/100\n",
            "366/366 [==============================] - 0s 911us/step - loss: 1711.2474 - mean_squared_error: 767606016.0000\n",
            "Epoch 78/100\n",
            "366/366 [==============================] - 0s 868us/step - loss: 1711.2474 - mean_squared_error: 767606272.0000\n",
            "Epoch 79/100\n",
            "366/366 [==============================] - 0s 896us/step - loss: 1711.2483 - mean_squared_error: 767606016.0000\n",
            "Epoch 80/100\n",
            "366/366 [==============================] - 0s 876us/step - loss: 1711.2461 - mean_squared_error: 767606016.0000\n",
            "Epoch 81/100\n",
            "366/366 [==============================] - 0s 878us/step - loss: 1711.2458 - mean_squared_error: 767606080.0000\n",
            "Epoch 82/100\n",
            "366/366 [==============================] - 0s 872us/step - loss: 1711.2452 - mean_squared_error: 767605824.0000\n",
            "Epoch 83/100\n",
            "366/366 [==============================] - 0s 932us/step - loss: 1711.2446 - mean_squared_error: 767605568.0000\n",
            "Epoch 84/100\n",
            "366/366 [==============================] - 0s 896us/step - loss: 1711.2440 - mean_squared_error: 767605632.0000\n",
            "Epoch 85/100\n",
            "366/366 [==============================] - 0s 912us/step - loss: 1711.2449 - mean_squared_error: 767606336.0000\n",
            "Epoch 86/100\n",
            "366/366 [==============================] - 0s 880us/step - loss: 1711.2415 - mean_squared_error: 767606144.0000\n",
            "Epoch 87/100\n",
            "366/366 [==============================] - 0s 897us/step - loss: 1711.2435 - mean_squared_error: 767605696.0000\n",
            "Epoch 88/100\n",
            "366/366 [==============================] - 0s 886us/step - loss: 1711.2423 - mean_squared_error: 767605696.0000\n",
            "Epoch 89/100\n",
            "366/366 [==============================] - 0s 898us/step - loss: 1711.2437 - mean_squared_error: 767606016.0000\n",
            "Epoch 90/100\n",
            "366/366 [==============================] - 0s 907us/step - loss: 1711.2416 - mean_squared_error: 767605824.0000\n",
            "Epoch 91/100\n",
            "366/366 [==============================] - 0s 892us/step - loss: 1711.2410 - mean_squared_error: 767606144.0000\n",
            "Epoch 92/100\n",
            "366/366 [==============================] - 0s 974us/step - loss: 1711.2397 - mean_squared_error: 767605824.0000\n",
            "Epoch 93/100\n",
            "366/366 [==============================] - 0s 913us/step - loss: 1711.2441 - mean_squared_error: 767606080.0000\n",
            "Epoch 94/100\n",
            "366/366 [==============================] - 0s 929us/step - loss: 1711.2423 - mean_squared_error: 767605888.0000\n",
            "Epoch 95/100\n",
            "366/366 [==============================] - 0s 918us/step - loss: 1711.2419 - mean_squared_error: 767605568.0000\n",
            "Epoch 96/100\n",
            "366/366 [==============================] - 0s 867us/step - loss: 1711.2411 - mean_squared_error: 767605696.0000\n",
            "Epoch 97/100\n",
            "366/366 [==============================] - 0s 890us/step - loss: 1711.2386 - mean_squared_error: 767605888.0000\n",
            "Epoch 98/100\n",
            "366/366 [==============================] - 0s 912us/step - loss: 1711.2389 - mean_squared_error: 767606144.0000\n",
            "Epoch 99/100\n",
            "366/366 [==============================] - 0s 908us/step - loss: 1711.2401 - mean_squared_error: 767605568.0000\n",
            "Epoch 100/100\n",
            "366/366 [==============================] - 0s 925us/step - loss: 1711.2372 - mean_squared_error: 767606080.0000\n",
            "Model: \"sequential_2\"\n",
            "_________________________________________________________________\n",
            "Layer (type)                 Output Shape              Param #   \n",
            "=================================================================\n",
            "dense_6 (Dense)              (None, 6)                 48        \n",
            "_________________________________________________________________\n",
            "dense_7 (Dense)              (None, 6)                 42        \n",
            "_________________________________________________________________\n",
            "dense_8 (Dense)              (None, 1)                 7         \n",
            "=================================================================\n",
            "Total params: 97\n",
            "Trainable params: 97\n",
            "Non-trainable params: 0\n",
            "_________________________________________________________________\n",
            "[[4.0073037]\n",
            " [1.0395439]\n",
            " [1.6048651]\n",
            " ...\n",
            " [3.4229748]\n",
            " [1.2441978]\n",
            " [4.305673 ]]\n",
            "Mean Absolute Error: 3478.115567007005\n",
            "Mean Squared Error: 10901228783.515038\n",
            "Root Mean Squared Error: 104408.94972901048\n"
          ],
          "name": "stdout"
        }
      ]
    },
    {
      "cell_type": "code",
      "metadata": {
        "id": "4qCrU_oyzqv1"
      },
      "source": [
        "import joblib\n",
        "joblib.dump(random_forest,\"random_forestregressor_youtubeadview.pkl\")\n",
        "\n",
        "ann.save(\"ann_youtubeadview.h5\")"
      ],
      "execution_count": null,
      "outputs": []
    },
    {
      "cell_type": "markdown",
      "metadata": {
        "id": "SDUsz0o3995T"
      },
      "source": [
        "Reading test data"
      ]
    },
    {
      "cell_type": "code",
      "metadata": {
        "id": "pGet8W4U4s7Y"
      },
      "source": [
        ""
      ],
      "execution_count": null,
      "outputs": []
    },
    {
      "cell_type": "code",
      "metadata": {
        "colab": {
          "base_uri": "https://localhost:8080/"
        },
        "id": "3q8CATBY8ZlM",
        "outputId": "5f0a2a3d-ee32-42d3-965f-c3a85630f086"
      },
      "source": [
        "data_test = pd.read_csv(\"test.csv\")\n",
        "\n",
        "data_test.shape"
      ],
      "execution_count": null,
      "outputs": [
        {
          "output_type": "execute_result",
          "data": {
            "text/plain": [
              "(8764, 8)"
            ]
          },
          "metadata": {
            "tags": []
          },
          "execution_count": 52
        }
      ]
    },
    {
      "cell_type": "code",
      "metadata": {
        "id": "vxpy5UHw-EO0"
      },
      "source": [
        "data_test=data_test[data_test.views!='F']\n",
        "data_test=data_test[data_test.likes!='F']\n",
        "data_test=data_test[data_test.dislikes!='F']\n",
        "data_test=data_test[data_test.comment!='F']\n",
        "\n",
        "category={'A': 1,'B':2,'C':3,'D':4,'E':5,'F':6,'G':7,'H':8}\n",
        "data_test[\"category\"]=data_test[\"category\"].map(category)\n",
        "\n",
        "data_test[\"views\"] = pd.to_numeric(data_test[\"views\"])\n",
        "data_test[\"comment\"] = pd.to_numeric(data_test[\"comment\"])\n",
        "data_test[\"likes\"] = pd.to_numeric(data_test[\"likes\"])\n",
        "data_test[\"dislikes\"] = pd.to_numeric(data_test[\"dislikes\"])"
      ],
      "execution_count": null,
      "outputs": []
    },
    {
      "cell_type": "code",
      "metadata": {
        "id": "3tOeFfvkAopv"
      },
      "source": [
        "data_test['duration']=LabelEncoder().fit_transform(data_test['duration'])\n",
        "data_test['vidid']=LabelEncoder().fit_transform(data_test['vidid'])\n",
        "data_test['published']=LabelEncoder().fit_transform(data_test['published'])"
      ],
      "execution_count": null,
      "outputs": []
    },
    {
      "cell_type": "code",
      "metadata": {
        "id": "gxalI_aetCNy"
      },
      "source": [
        "test = pd.read_csv(\"test.csv\")\n",
        "lp = pd.read_csv(\"test.csv\")[\"duration\"]\n",
        "time_test  = lp.apply(checki)"
      ],
      "execution_count": null,
      "outputs": []
    },
    {
      "cell_type": "code",
      "metadata": {
        "id": "AwaowYb7zx2R"
      },
      "source": [
        "time1_test = time_test.apply(func_sec)\n",
        "data_test[\"duration\"]=time1_test\n",
        "data_test=data_test.drop([\"vidid\"],axis=1)"
      ],
      "execution_count": null,
      "outputs": []
    },
    {
      "cell_type": "code",
      "metadata": {
        "colab": {
          "base_uri": "https://localhost:8080/",
          "height": 485
        },
        "id": "h39xjxSP1g4O",
        "outputId": "b6881212-92dc-41df-fe85-330f042bbe7d"
      },
      "source": [
        "plt.hist(data_test[\"category\"])\n",
        "plt.show()\n",
        "\n",
        "\n",
        "print(data_test.head())\n",
        "print(data_train.head())\n",
        "data_test.shape\n",
        "data_test = scaler.fit_transform(data_test)"
      ],
      "execution_count": null,
      "outputs": [
        {
          "output_type": "display_data",
          "data": {
            "image/png": "[encoded data removed]",
            "text/plain": [
              "<Figure size 432x288 with 1 Axes>"
            ]
          },
          "metadata": {
            "tags": [],
            "needs_background": "light"
          }
        },
        {
          "output_type": "stream",
          "text": [
            "     views  likes  dislikes  comment  published  duration  category\n",
            "0   440238   6153       218     1377       2053       449         2\n",
            "1  1040132   8171       340     1047       1825       389         6\n",
            "2    28534     31        11        1       1009      2274         4\n",
            "3  1316715   2284       250      274        116       595         7\n",
            "4  1893173   2519       225      116       1892       188         2\n",
            "     views  likes  dislikes  comment  published  duration  category\n",
            "0  1031602   8523       363     1095       2168       457         6\n",
            "1     1707     56         2        6       2185       570         4\n",
            "2     2023     25         0        2       2094       136         3\n",
            "3   620860    777       161      153       2119       262         8\n",
            "4      666      1         0        0       2091        31         4\n"
          ],
          "name": "stdout"
        }
      ]
    },
    {
      "cell_type": "code",
      "metadata": {
        "colab": {
          "base_uri": "https://localhost:8080/"
        },
        "id": "9ajsslqr2gCu",
        "outputId": "b2994f2f-c7bf-4280-ae53-a86403c05cc0"
      },
      "source": [
        "joblib_SVR_model = joblib.load(\"random_forestregressor_youtubeadview.pkl\")\n",
        "Ypredict = joblib_SVR_model.predict(data_test)\n",
        "Ypredict"
      ],
      "execution_count": null,
      "outputs": [
        {
          "output_type": "execute_result",
          "data": {
            "text/plain": [
              "array([790.69492264, 860.19792504,  91.84686757, ..., 613.60422195,\n",
              "        12.33619996,  71.95934997])"
            ]
          },
          "metadata": {
            "tags": []
          },
          "execution_count": 58
        }
      ]
    },
    {
      "cell_type": "code",
      "metadata": {
        "id": "AyfpkUS5415-"
      },
      "source": [
        "Ypredictions = pd.DataFrame(Ypredict, columns=['adview']).to_csv('predictions.csv')"
      ],
      "execution_count": null,
      "outputs": []
    },
    {
      "cell_type": "code",
      "metadata": {
        "id": "xABrzcqV5yJV"
      },
      "source": [
        "Ypredictions"
      ],
      "execution_count": null,
      "outputs": []
    },
    {
      "cell_type": "code",
      "metadata": {
        "id": "v4u3ZN0661D_"
      },
      "source": [
        ""
      ],
      "execution_count": null,
      "outputs": []
    }
  ]
}